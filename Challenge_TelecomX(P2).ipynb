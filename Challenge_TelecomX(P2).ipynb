{
  "nbformat": 4,
  "nbformat_minor": 0,
  "metadata": {
    "colab": {
      "provenance": [],
      "authorship_tag": "ABX9TyMzPXkdkMuntHzt5+GJU4HF",
      "include_colab_link": true
    },
    "kernelspec": {
      "name": "python3",
      "display_name": "Python 3"
    },
    "language_info": {
      "name": "python"
    }
  },
  "cells": [
    {
      "cell_type": "markdown",
      "metadata": {
        "id": "view-in-github",
        "colab_type": "text"
      },
      "source": [
        "<a href=\"https://colab.research.google.com/github/solecoded/TelecomX_P2/blob/main/Challenge_TelecomX(P2).ipynb\" target=\"_parent\"><img src=\"https://colab.research.google.com/assets/colab-badge.svg\" alt=\"Open In Colab\"/></a>"
      ]
    },
    {
      "cell_type": "code",
      "execution_count": 1,
      "metadata": {
        "colab": {
          "base_uri": "https://localhost:8080/"
        },
        "id": "OoW5mwvv5Yhh",
        "outputId": "15e1298e-2415-49c7-8ff6-971455d5dc88"
      },
      "outputs": [
        {
          "output_type": "stream",
          "name": "stdout",
          "text": [
            "   ID_cliente  churn  genero  adultoMayor  pareja  dependientes  \\\n",
            "0  0002-ORFBO      0       1            0       1             1   \n",
            "1  0003-MKNFE      0       0            0       0             0   \n",
            "2  0004-TLHLJ      1       0            0       0             0   \n",
            "3  0011-IGKFF      1       0            1       1             0   \n",
            "4  0013-EXCHZ      1       1            1       1             0   \n",
            "\n",
            "   permanenciaMeses  servicioTelefonico  multiplesLineas servicioInternet  \\\n",
            "0                 9                   1                0              DSL   \n",
            "1                 9                   1                1              DSL   \n",
            "2                 4                   1                0      Fiber optic   \n",
            "3                13                   1                0      Fiber optic   \n",
            "4                 3                   1                0      Fiber optic   \n",
            "\n",
            "   ...  proteccionDispositivo  soporteTecnico  streamingTV  \\\n",
            "0  ...                      0               1            1   \n",
            "1  ...                      0               0            0   \n",
            "2  ...                      1               0            0   \n",
            "3  ...                      1               0            1   \n",
            "4  ...                      0               1            1   \n",
            "\n",
            "   streamingPeliculas  tipoContrato  facturacionOnline  \\\n",
            "0                   0        Un año                  1   \n",
            "1                   1     Mes a mes                  0   \n",
            "2                   0     Mes a mes                  1   \n",
            "3                   1     Mes a mes                  1   \n",
            "4                   0     Mes a mes                  1   \n",
            "\n",
            "                  metodoPago  cargosMensuales cargosTotales  cuentasDiarias  \n",
            "0  Cheque enviado por correo             65.6        593.30        2.186667  \n",
            "1  Cheque enviado por correo             59.9        542.40        1.996667  \n",
            "2         Cheque electrónico             73.9        280.85        2.463333  \n",
            "3         Cheque electrónico             98.0       1237.85        3.266667  \n",
            "4  Cheque enviado por correo             83.9        267.40        2.796667  \n",
            "\n",
            "[5 rows x 22 columns]\n"
          ]
        }
      ],
      "source": [
        "import pandas as pd\n",
        "\n",
        "# Pega la URL del archivo \"Raw\" que copiaste de GitHub\n",
        "url_github = \"https://raw.githubusercontent.com/solecoded/TelecomX_P2/refs/heads/main/datos_limpios.csv\"\n",
        "\n",
        "# Cargar el CSV en un DataFrame de pandas\n",
        "df_limpio = pd.read_csv(url_github)\n",
        "\n",
        "# Mostrar las primeras filas para verificar que se cargó correctamente\n",
        "print(df_limpio.head())"
      ]
    }
  ]
}